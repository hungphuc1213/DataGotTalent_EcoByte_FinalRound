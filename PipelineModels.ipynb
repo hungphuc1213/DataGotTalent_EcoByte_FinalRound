{
  "cells": [
    {
      "cell_type": "code",
      "execution_count": null,
      "id": "E4eprmtcqBrv",
      "metadata": {
        "colab": {
          "base_uri": "https://localhost:8080/"
        },
        "id": "E4eprmtcqBrv",
        "outputId": "00619f63-ad87-45ce-b88d-f45301d7ce1b"
      },
      "outputs": [
        {
          "output_type": "stream",
          "name": "stdout",
          "text": [
            "Mounted at /content/drive\n"
          ]
        }
      ],
      "source": [
        "from google.colab import drive\n",
        "drive.mount('/content/drive')"
      ]
    },
    {
      "cell_type": "code",
      "execution_count": null,
      "id": "nO-JYu4qqUlg",
      "metadata": {
        "id": "nO-JYu4qqUlg"
      },
      "outputs": [],
      "source": [
        "!pip install catboost\n",
        "!pip install scikit-learn\n",
        "!pip install dask_ml"
      ]
    },
    {
      "cell_type": "markdown",
      "id": "ad7256a6-d40d-4fce-9e5a-bd2a2a366f60",
      "metadata": {
        "id": "ad7256a6-d40d-4fce-9e5a-bd2a2a366f60"
      },
      "source": [
        "### **1. IMPORT LIBRARY**"
      ]
    },
    {
      "cell_type": "code",
      "execution_count": null,
      "id": "d7d45eb1-5ead-49d9-89b9-077a59f55198",
      "metadata": {
        "id": "d7d45eb1-5ead-49d9-89b9-077a59f55198"
      },
      "outputs": [],
      "source": [
        "# Third-party library imports\n",
        "import pandas as pd\n",
        "import numpy as np\n",
        "import dask.dataframe as dd\n",
        "from dask_ml.model_selection import train_test_split\n",
        "from sklearn.base import BaseEstimator, TransformerMixin, RegressorMixin, clone\n",
        "from statistics import mean\n",
        "from sklearn.metrics import r2_score\n",
        "\n",
        "# Third-party library models imports\n",
        "from catboost import CatBoostRegressor\n",
        "import xgboost as xgb\n",
        "import lightgbm as lgbm\n",
        "from sklearn.linear_model import Ridge"
      ]
    },
    {
      "cell_type": "markdown",
      "id": "8bf1cbfd-3789-4048-b813-963f03ccf8ee",
      "metadata": {
        "id": "8bf1cbfd-3789-4048-b813-963f03ccf8ee"
      },
      "source": [
        "### **2. ACQUIRE DATA**\n",
        "- **Note**: /Data to your directory"
      ]
    },
    {
      "cell_type": "code",
      "execution_count": null,
      "id": "apgHcetWv1bC",
      "metadata": {
        "id": "apgHcetWv1bC"
      },
      "outputs": [],
      "source": [
        "file_path = r\"/content/drive/MyDrive/Data/\""
      ]
    },
    {
      "cell_type": "code",
      "execution_count": null,
      "id": "xXtrY2Davd3p",
      "metadata": {
        "id": "xXtrY2Davd3p"
      },
      "outputs": [],
      "source": [
        "data = dd.read_csv(file_path + 'ProcessedData.csv')"
      ]
    },
    {
      "cell_type": "code",
      "execution_count": null,
      "id": "UVGxQ4t4TajS",
      "metadata": {
        "id": "UVGxQ4t4TajS"
      },
      "outputs": [],
      "source": [
        "f = open(file_path + 'Accuracy.txt', \"a\")"
      ]
    },
    {
      "cell_type": "code",
      "execution_count": null,
      "id": "YOA9fzNAURXj",
      "metadata": {
        "id": "YOA9fzNAURXj"
      },
      "outputs": [],
      "source": [
        "test_case = \"Test_run_103\""
      ]
    },
    {
      "cell_type": "markdown",
      "source": [
        "### **3. CLASS**"
      ],
      "metadata": {
        "id": "z_sGFqluxEIw"
      },
      "id": "z_sGFqluxEIw"
    },
    {
      "cell_type": "code",
      "execution_count": null,
      "id": "7ZmR9ngvy5M6",
      "metadata": {
        "id": "7ZmR9ngvy5M6"
      },
      "outputs": [],
      "source": [
        "class EarlyStoppingRegressor(BaseEstimator, RegressorMixin):\n",
        "    def __init__(self, estimator, early_stopping_rounds=2, train_size = 0, sample_size = 500000, **kwargs):\n",
        "        self.estimator = estimator\n",
        "        self.early_stopping_rounds = early_stopping_rounds\n",
        "        self.estimators_ = []\n",
        "        self.score = []\n",
        "        self.train_size = train_size\n",
        "        self.sample_size = sample_size\n",
        "    def fit(self, X, y, X_val, y_val):\n",
        "        self.estimators_ = []\n",
        "        best_score = float(\"inf\")\n",
        "        early_stopping_count = 0\n",
        "        for i in range(0, self.train_size, self.sample_size):\n",
        "          X_sample, y_sample = split_sample_size(X, y, i, self.sample_size)\n",
        "          for i in range(3):\n",
        "            estimator = clone(self.estimator)\n",
        "            estimator.fit(X_sample, y_sample)\n",
        "            self.estimators_.append(estimator)\n",
        "            val_error = estimator.score(X_val, y_val)\n",
        "            if val_error < best_score:\n",
        "                best_score = val_error\n",
        "                early_stopping_count = 0\n",
        "            else:\n",
        "                early_stopping_count += 1\n",
        "            if early_stopping_count >= self.early_stopping_rounds:\n",
        "                break\n",
        "        return self\n",
        "    def predict(self, X):\n",
        "        return self.estimators_[-1].predict(X)\n",
        "    def get_feature_importance(self, model):\n",
        "      if model == 'linear':\n",
        "        return self.estimators_[-1].coef_[0].round(2)\n",
        "      else:\n",
        "        if(sum(pipeline[1].feature_importances_.round(2)) != 1):\n",
        "          return (self.estimators_[-1].feature_importances_.round(2)/sum(self.estimators_[-1].feature_importances_.round(2)).round(2)).round(2)\n",
        "        else:\n",
        "          return self.estimators_[-1].feature_importances_.round(2)\n",
        "    def get_features(self, model):\n",
        "      if model == 'linear':\n",
        "        return self.estimators_[-1].feature_names_in_\n",
        "      else:\n",
        "        return self.estimators_[-1].feature_names_"
      ]
    },
    {
      "cell_type": "markdown",
      "id": "RNvbUtJ5uxRR",
      "metadata": {
        "id": "RNvbUtJ5uxRR"
      },
      "source": [
        "### **4. FUNCTION**"
      ]
    },
    {
      "cell_type": "code",
      "execution_count": null,
      "id": "bwYI1qQivBnU",
      "metadata": {
        "id": "bwYI1qQivBnU"
      },
      "outputs": [],
      "source": [
        "def split_sample_size(X_train, y_train, i, batch_size):\n",
        "  X_batch = X_train[i:i+batch_size]\n",
        "  y_batch = y_train[i:i+batch_size]\n",
        "  return X_batch, y_batch"
      ]
    },
    {
      "cell_type": "markdown",
      "id": "358033c8-2ac3-4167-93b8-f9c357e7ac67",
      "metadata": {
        "id": "358033c8-2ac3-4167-93b8-f9c357e7ac67"
      },
      "source": [
        "### **5. MACHINE LEARNING**"
      ]
    },
    {
      "cell_type": "code",
      "execution_count": null,
      "id": "e735a1ff-da5c-4080-b631-24f5f9055f50",
      "metadata": {
        "id": "e735a1ff-da5c-4080-b631-24f5f9055f50"
      },
      "outputs": [],
      "source": [
        "features_importance = ['AGE', 'TENURE_IN_DAYS', 'FOB_RACING_TURNOVER', 'FOB_SPORT_TURNOVER', 'PARI_RACING_TURNOVER',\n",
        "                  'PARI_SPORT_TURNOVER', 'DIVIDENDS_PAID', 'TICKETS', 'IS_WEEKEND', 'IS_WEEKDAY',\n",
        "                  'IS_YEAR', 'IS_MONTH', 'SEASON_ENCODE', 'MALE', 'FEMALE', 'UNKNOWN', 'GENDER_AGE_BAND', 'IS_HOLIDAY',\n",
        "                  'IS_WA', 'IS_OTH', 'IS_YEAR_2021', 'IS_YEAR_2022', 'GROSS_MARGIN_STATUS',\n",
        "                  'IS_PLAY_FOB_RACING', 'IS_PLAY_FOB', 'IS_PLAY_PARI_RACING', 'IS_WORLD_CUP', 'IS_BET_DURING_WORLD_CUP', 'AGE_BAND',\n",
        "                  'IS_SPRING', 'IS_SUMMER', 'IS_AUTUMN', 'IS_WINTER', 'IS_PLAY_SPORT', 'IS_PLAY_RACING' , 'IS_PLAY_BET',\n",
        "                  'IS_PLAY_PARI_SPORT', 'IS_PLAY_PARI', 'IS_PLAY_FOB_SPORT', 'DAY_OF_WEEK', 'Segment']"
      ]
    },
    {
      "cell_type": "code",
      "execution_count": null,
      "id": "4116f0ab-1424-4d52-86c5-8de29bdaf928",
      "metadata": {
        "id": "4116f0ab-1424-4d52-86c5-8de29bdaf928"
      },
      "outputs": [],
      "source": [
        "target_feature = ['TOTAL_TURNOVER']"
      ]
    },
    {
      "cell_type": "markdown",
      "id": "5d36b43e-88d1-4ac5-adf8-e69db414ea9b",
      "metadata": {
        "id": "5d36b43e-88d1-4ac5-adf8-e69db414ea9b"
      },
      "source": [
        "#### **STEP 1: SEPARATE IMPORTANT FEATURES AND TARGET LABEL**"
      ]
    },
    {
      "cell_type": "code",
      "execution_count": null,
      "id": "6192617b-b28c-4d59-addc-8630abba97e1",
      "metadata": {
        "id": "6192617b-b28c-4d59-addc-8630abba97e1"
      },
      "outputs": [],
      "source": [
        "X = data[features_importance]\n",
        "y = data[target_feature]"
      ]
    },
    {
      "cell_type": "markdown",
      "id": "ffcbd417-e1b4-4869-9acc-5cc0ff9260f1",
      "metadata": {
        "id": "ffcbd417-e1b4-4869-9acc-5cc0ff9260f1"
      },
      "source": [
        "#### **STEP 2: SPLIT DATA INTO TRAIN, VALIDATION AND TEST SETS**"
      ]
    },
    {
      "cell_type": "code",
      "execution_count": null,
      "id": "dc63c644-74dd-49fa-b722-f917114e0929",
      "metadata": {
        "id": "dc63c644-74dd-49fa-b722-f917114e0929"
      },
      "outputs": [],
      "source": [
        "X_train, X_test, y_train, y_test = train_test_split(X, y, test_size=0.2, random_state=1607)"
      ]
    },
    {
      "cell_type": "code",
      "execution_count": null,
      "id": "qzzdDVFfxO-S",
      "metadata": {
        "id": "qzzdDVFfxO-S"
      },
      "outputs": [],
      "source": [
        "X_train, X_val, y_train, y_val = train_test_split(X_train, y_train, test_size=0.2, random_state=1607)"
      ]
    },
    {
      "cell_type": "code",
      "execution_count": null,
      "id": "H_7FDEOFfj3K",
      "metadata": {
        "id": "H_7FDEOFfj3K"
      },
      "outputs": [],
      "source": [
        "X_train = X_train.compute()\n",
        "y_train = y_train.compute()"
      ]
    },
    {
      "cell_type": "code",
      "execution_count": null,
      "id": "BG7kL5-q2ipc",
      "metadata": {
        "id": "BG7kL5-q2ipc"
      },
      "outputs": [],
      "source": [
        "sample_size = 500000\n",
        "train_size = len(X_train)"
      ]
    },
    {
      "cell_type": "markdown",
      "id": "6a0dfb0b-f368-42a5-a2e0-42ae1e18d7d8",
      "metadata": {
        "id": "6a0dfb0b-f368-42a5-a2e0-42ae1e18d7d8"
      },
      "source": [
        "#### **STEP 3: DEFINE PIPELINE**"
      ]
    },
    {
      "cell_type": "code",
      "execution_count": null,
      "id": "eaeSeK0Y7P24",
      "metadata": {
        "id": "eaeSeK0Y7P24"
      },
      "outputs": [],
      "source": [
        "pipelines = [\n",
        "    ('linear', EarlyStoppingRegressor(Ridge(alpha=0.1), train_size = train_size, sample_size = sample_size)),\n",
        "    ('lightgbm', EarlyStoppingRegressor(lgbm.LGBMRegressor(n_estimators = 100, learning_rate = 0.01, verbose=-1, objective='regression', metric='rmse', lambda_l2=0.1), train_size = train_size, sample_size = sample_size)),\n",
        "    ('xgboost', EarlyStoppingRegressor(xgb.XGBRegressor(n_estimators = 100, learning_rate = 0.01, verbosity=0, objective='reg:squarederror', reg_lambda=0.1),  train_size = train_size, sample_size = sample_size)),\n",
        "    ('catboost', EarlyStoppingRegressor(CatBoostRegressor(n_estimators=100, learning_rate = 0.01, verbose=False, l2_leaf_reg=3),  train_size = train_size, sample_size = sample_size))\n",
        "]"
      ]
    },
    {
      "cell_type": "markdown",
      "id": "62086f8e-1e23-4639-9fbb-6ed60d23de21",
      "metadata": {
        "id": "62086f8e-1e23-4639-9fbb-6ed60d23de21"
      },
      "source": [
        "#### **STEP 4: TRAIN AND EVALUATE EACH MODEL**"
      ]
    },
    {
      "cell_type": "code",
      "execution_count": null,
      "id": "Hj9konEn133B",
      "metadata": {
        "id": "Hj9konEn133B"
      },
      "outputs": [],
      "source": [
        "for name, pipeline in pipelines:\n",
        "    print(f\"Training {name}...\")\n",
        "    pipeline.fit(X_train, y_train, X_val.compute(), y_val.compute())"
      ]
    },
    {
      "cell_type": "code",
      "source": [
        "f.write(f\"{test_case}\" + '\\n')\n",
        "for name, pipeline in pipelines:\n",
        "  score_batch = []\n",
        "  for i in range(0, train_size, sample_size):\n",
        "    X_batch, y_batch = split_sample_size(X_train, y_train, i, sample_size)\n",
        "    score_batch.append(r2_score(y_batch, pipeline.predict(X_batch)))\n",
        "  score_train = mean(score_batch)\n",
        "  score_val = r2_score(y_val.compute(), pipeline.predict(X_val.compute()))\n",
        "  score_test = r2_score(y_test.compute(), pipeline.predict(X_test.compute()))\n",
        "  f.write(f\"- {name} accuracy on train: {score_train:.2}\\n\")\n",
        "  f.write(f\"- {name} accuracy on validation: {score_val:.2}\\n\")\n",
        "  f.write(f\"- {name} accuracy on test: {score_test:.2}\\n\")\n",
        "f.write('------------------------------------\\n')\n",
        "f.close()"
      ],
      "metadata": {
        "id": "5RzGV74bqFIc"
      },
      "id": "5RzGV74bqFIc",
      "execution_count": null,
      "outputs": []
    },
    {
      "cell_type": "markdown",
      "id": "22e6f229-c734-4510-9f0d-c725c87758c9",
      "metadata": {
        "id": "22e6f229-c734-4510-9f0d-c725c87758c9"
      },
      "source": [
        "#### **STEP 5: AQUIRE FEATURE IMPORTANCES**"
      ]
    },
    {
      "cell_type": "code",
      "source": [
        "feature_importance_df = pd.DataFrame(pipelines[0][1].get_features(pipelines[0][0]))"
      ],
      "metadata": {
        "id": "MpYLte58GTR2"
      },
      "id": "MpYLte58GTR2",
      "execution_count": null,
      "outputs": []
    },
    {
      "cell_type": "code",
      "execution_count": null,
      "id": "ZCBIVXYkDMPk",
      "metadata": {
        "id": "ZCBIVXYkDMPk"
      },
      "outputs": [],
      "source": [
        "for name, pipeline in pipelines:\n",
        "  feature_importance_df[name] = pipeline.get_feature_importance(name)"
      ]
    },
    {
      "cell_type": "code",
      "execution_count": null,
      "id": "X9_Db2FWycrR",
      "metadata": {
        "id": "X9_Db2FWycrR"
      },
      "outputs": [],
      "source": [
        "feature_importance_df.rename(columns={0 : 'Features'}, inplace=True)"
      ]
    },
    {
      "cell_type": "code",
      "execution_count": null,
      "id": "bPCSUdqSaKY9",
      "metadata": {
        "id": "bPCSUdqSaKY9"
      },
      "outputs": [],
      "source": [
        "feature_importance_df.to_csv(file_path + f'{test_case}.csv', index=False)"
      ]
    },
    {
      "cell_type": "code",
      "source": [],
      "metadata": {
        "id": "uZhgOq7hJEd3"
      },
      "id": "uZhgOq7hJEd3",
      "execution_count": null,
      "outputs": []
    }
  ],
  "metadata": {
    "colab": {
      "provenance": [],
      "gpuType": "T4"
    },
    "kernelspec": {
      "display_name": "Python 3",
      "name": "python3"
    },
    "language_info": {
      "codemirror_mode": {
        "name": "ipython",
        "version": 3
      },
      "file_extension": ".py",
      "mimetype": "text/x-python",
      "name": "python",
      "nbconvert_exporter": "python",
      "pygments_lexer": "ipython3",
      "version": "3.9.0"
    },
    "accelerator": "GPU"
  },
  "nbformat": 4,
  "nbformat_minor": 5
}